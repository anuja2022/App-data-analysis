{
 "cells": [
  {
   "cell_type": "markdown",
   "id": "4591ff8d",
   "metadata": {},
   "source": [
    "### FLOAT ASSIGNMENT "
   ]
  },
  {
   "cell_type": "markdown",
   "id": "06904039",
   "metadata": {},
   "source": [
    "#### ANUJA BIYANI\n",
    "#### 13 JAN BATCH"
   ]
  },
  {
   "cell_type": "markdown",
   "id": "9e40217a",
   "metadata": {},
   "source": [
    "##### QUEST 1"
   ]
  },
  {
   "cell_type": "code",
   "execution_count": 1,
   "id": "adc77afb",
   "metadata": {},
   "outputs": [
    {
     "name": "stdout",
     "output_type": "stream",
     "text": [
      "<class 'float'>\n",
      "476154145776\n"
     ]
    }
   ],
   "source": [
    "a= 24.8\n",
    "print(type(a))\n",
    "print(id(a))"
   ]
  },
  {
   "cell_type": "markdown",
   "id": "c7b40bd1",
   "metadata": {},
   "source": [
    "##### QUEST 2"
   ]
  },
  {
   "cell_type": "code",
   "execution_count": 2,
   "id": "2326090d",
   "metadata": {},
   "outputs": [
    {
     "name": "stdout",
     "output_type": "stream",
     "text": [
      "93.4\n",
      "42.400000000000006\n",
      "1731.45\n",
      "0.37555228276877756\n",
      "25.5\n",
      "0.37555228276877756\n",
      "3.1921129603017465e+95\n"
     ]
    }
   ],
   "source": [
    "num1=25.5\n",
    "num2=67.9\n",
    "#sum of two numbers\n",
    "sum=num1+num2\n",
    "print(sum)\n",
    "# subtraction\n",
    "diff=num2-num1\n",
    "print(diff)\n",
    "#product\n",
    "pro=num1*num2\n",
    "print(pro)\n",
    "#division\n",
    "div=num1/num2\n",
    "print(div)\n",
    "#remainder\n",
    "rem=num1%num2\n",
    "print(rem)\n",
    "#quotient\n",
    "quot=num1/num2\n",
    "print(quot)\n",
    "#power\n",
    "print(pow(num1,num2))"
   ]
  },
  {
   "cell_type": "markdown",
   "id": "dbc60d21",
   "metadata": {},
   "source": [
    "##### QUEST 3"
   ]
  },
  {
   "cell_type": "code",
   "execution_count": 4,
   "id": "c9e5faeb",
   "metadata": {},
   "outputs": [
    {
     "name": "stdout",
     "output_type": "stream",
     "text": [
      "True\n",
      "False\n",
      "True\n",
      "False\n"
     ]
    }
   ],
   "source": [
    "var1=24.8\n",
    "var2=11.89\n",
    "print(var1>var2)\n",
    "print(var1<var2)\n",
    "print(var1>=var2)\n",
    "print(var1<=var2)"
   ]
  },
  {
   "cell_type": "markdown",
   "id": "64a7e46d",
   "metadata": {},
   "source": [
    "##### QUEST 4"
   ]
  },
  {
   "cell_type": "code",
   "execution_count": 5,
   "id": "f4e3b743",
   "metadata": {},
   "outputs": [
    {
     "name": "stdout",
     "output_type": "stream",
     "text": [
      "False\n",
      "True\n"
     ]
    }
   ],
   "source": [
    "temp1=98.7\n",
    "temp2=76.09\n",
    "print(temp1==temp2)\n",
    "print(temp1!=temp2)"
   ]
  },
  {
   "cell_type": "markdown",
   "id": "38b9263b",
   "metadata": {},
   "source": [
    "##### QUEST 5"
   ]
  },
  {
   "cell_type": "code",
   "execution_count": 6,
   "id": "782df431",
   "metadata": {},
   "outputs": [
    {
     "name": "stdout",
     "output_type": "stream",
     "text": [
      "20.3\n",
      "0.0\n",
      "0.0\n",
      "0.0\n",
      "10.2\n",
      "20.3\n",
      "20.3\n",
      "0.0\n",
      "False\n",
      "True\n"
     ]
    }
   ],
   "source": [
    "print(10.20 and 20.30)    \n",
    "print(0.0 and 20.30)   \n",
    "print(20.30 and 0.0)    \n",
    "print(0.0 and 0.0)\n",
    "print(10.20 or 20.30)   \n",
    "print(0.0 or 20.30)\n",
    "print(20.30 or 0.0)\n",
    "print(0.0 or 0.0)\n",
    "print(not 10.20)\n",
    "print(not 0.0)"
   ]
  },
  {
   "cell_type": "markdown",
   "id": "8d1b565f",
   "metadata": {},
   "source": [
    "##### QUEST 6"
   ]
  },
  {
   "cell_type": "code",
   "execution_count": 8,
   "id": "fd376dc4",
   "metadata": {},
   "outputs": [
    {
     "name": "stdout",
     "output_type": "stream",
     "text": [
      "False\n",
      "True\n"
     ]
    }
   ],
   "source": [
    "b=10.20\n",
    "c=10.20\n",
    "print(b is c)     #f\n",
    "print(b is not c)  #t"
   ]
  },
  {
   "cell_type": "markdown",
   "id": "a95e2d9d",
   "metadata": {},
   "source": [
    "This is because  object reusability doesnt work for float datatypes"
   ]
  },
  {
   "cell_type": "markdown",
   "id": "794295a5",
   "metadata": {},
   "source": [
    "##### QUEST 7"
   ]
  },
  {
   "cell_type": "markdown",
   "id": "f2a619d0",
   "metadata": {},
   "source": [
    "The object reusabilty will not work if we assign same float value to different variables, but if we direct one variable to pick value of that variable and save in itself than object reusabilty will work and Id's of both will be same"
   ]
  },
  {
   "cell_type": "markdown",
   "id": "65ea555c",
   "metadata": {},
   "source": [
    "##### QUEST 8"
   ]
  },
  {
   "cell_type": "code",
   "execution_count": 10,
   "id": "4b20574d",
   "metadata": {},
   "outputs": [
    {
     "name": "stdout",
     "output_type": "stream",
     "text": [
      "True\n",
      "True\n",
      "True\n",
      "True\n",
      "True\n",
      "True\n"
     ]
    }
   ],
   "source": [
    "print('2.7' in 'Python2.7.8') #True\n",
    "print(10.20 in [10,10.20,10+20j,'Python']) #True\n",
    "print(10.20 in (10,10.20,10+20j,'Python')) # True\n",
    "print(20.30 in {1,20.30,30+40j}) # True\n",
    "print(2.3 in {1:100, 2.3:200, 30+40j:300}) # True\n",
    "print(10 in range(20))   #TRUE"
   ]
  }
 ],
 "metadata": {
  "kernelspec": {
   "display_name": "Python 3 (ipykernel)",
   "language": "python",
   "name": "python3"
  },
  "language_info": {
   "codemirror_mode": {
    "name": "ipython",
    "version": 3
   },
   "file_extension": ".py",
   "mimetype": "text/x-python",
   "name": "python",
   "nbconvert_exporter": "python",
   "pygments_lexer": "ipython3",
   "version": "3.9.7"
  }
 },
 "nbformat": 4,
 "nbformat_minor": 5
}

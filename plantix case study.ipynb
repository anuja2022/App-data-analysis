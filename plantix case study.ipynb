{
 "cells": [
  {
   "cell_type": "markdown",
   "id": "64279ea5",
   "metadata": {},
   "source": [
    "##                                       Plantix Case Study"
   ]
  },
  {
   "cell_type": "markdown",
   "id": "24dad46f",
   "metadata": {},
   "source": [
    "# KPI's that one should use to measure the performance of app:-\n",
    "## General Mobile app KPI\n",
    "### 1.User Growth Rate\n",
    "### 2.Mobile Downloads\n",
    "### 3.Registrations\n",
    "### 4. Subscriptions\n",
    "### 5.Installs/Unistalls\n",
    "\n",
    "## App Engagement Metrices\n",
    "### 1.Retention Rate\n",
    "### 2.Daily Active Users\n",
    "### 3.Monthly Active Users\n",
    "### 4.Social Shares\n",
    "### 5.Brand Awareness\n",
    "\n",
    "## Revenue Focused KPI\n",
    "### 1.Avg revenue per user\n",
    "### 2.Purchases\n",
    "### 3.Customer Acquistion Cost\n",
    "### 4.Return on investment\n",
    "### 5.Cost per install\n",
    "\n",
    "## User experience KPI\n",
    "### 1.Load Time\n",
    "### 2.Devices\n",
    "### 3.Carriers\n",
    "### 4.Permissions Granted\n",
    "### 5.API Latency\n",
    "\n",
    "## App Atore OPtimization\n",
    "### 1.Keywords\n",
    "### 2.App Store Category Ranking\n",
    "### 3.Views To Install\n",
    "### 4. Ratings\n",
    "### 5.Reviews\n"
   ]
  },
  {
   "cell_type": "markdown",
   "id": "074b7284",
   "metadata": {},
   "source": [
    "# Importing Important Libraries"
   ]
  },
  {
   "cell_type": "code",
   "execution_count": 1,
   "id": "673571e3",
   "metadata": {},
   "outputs": [],
   "source": [
    "import numpy as np\n",
    "import pandas as pd\n",
    "import seaborn as sns\n",
    "import matplotlib.pyplot as plt"
   ]
  },
  {
   "cell_type": "markdown",
   "id": "3ba2045d",
   "metadata": {},
   "source": [
    "# Reading all the files "
   ]
  },
  {
   "cell_type": "code",
   "execution_count": 2,
   "id": "b002e5c9",
   "metadata": {},
   "outputs": [
    {
     "data": {
      "text/html": [
       "<div>\n",
       "<style scoped>\n",
       "    .dataframe tbody tr th:only-of-type {\n",
       "        vertical-align: middle;\n",
       "    }\n",
       "\n",
       "    .dataframe tbody tr th {\n",
       "        vertical-align: top;\n",
       "    }\n",
       "\n",
       "    .dataframe thead th {\n",
       "        text-align: right;\n",
       "    }\n",
       "</style>\n",
       "<table border=\"1\" class=\"dataframe\">\n",
       "  <thead>\n",
       "    <tr style=\"text-align: right;\">\n",
       "      <th></th>\n",
       "      <th>login_log_id</th>\n",
       "      <th>user_id</th>\n",
       "      <th>login_time</th>\n",
       "    </tr>\n",
       "  </thead>\n",
       "  <tbody>\n",
       "    <tr>\n",
       "      <th>0</th>\n",
       "      <td>1385328</td>\n",
       "      <td>99160</td>\n",
       "      <td>2021-07-01 00:00:33.0</td>\n",
       "    </tr>\n",
       "    <tr>\n",
       "      <th>1</th>\n",
       "      <td>1385329</td>\n",
       "      <td>83272</td>\n",
       "      <td>2021-07-01 00:00:38.0</td>\n",
       "    </tr>\n",
       "    <tr>\n",
       "      <th>2</th>\n",
       "      <td>1385330</td>\n",
       "      <td>83272</td>\n",
       "      <td>2021-07-01 00:00:42.0</td>\n",
       "    </tr>\n",
       "    <tr>\n",
       "      <th>3</th>\n",
       "      <td>1385331</td>\n",
       "      <td>96640</td>\n",
       "      <td>2021-07-01 00:02:08.0</td>\n",
       "    </tr>\n",
       "    <tr>\n",
       "      <th>4</th>\n",
       "      <td>1385332</td>\n",
       "      <td>99160</td>\n",
       "      <td>2021-07-01 00:02:38.0</td>\n",
       "    </tr>\n",
       "  </tbody>\n",
       "</table>\n",
       "</div>"
      ],
      "text/plain": [
       "   login_log_id  user_id             login_time\n",
       "0       1385328    99160  2021-07-01 00:00:33.0\n",
       "1       1385329    83272  2021-07-01 00:00:38.0\n",
       "2       1385330    83272  2021-07-01 00:00:42.0\n",
       "3       1385331    96640  2021-07-01 00:02:08.0\n",
       "4       1385332    99160  2021-07-01 00:02:38.0"
      ]
     },
     "execution_count": 2,
     "metadata": {},
     "output_type": "execute_result"
    }
   ],
   "source": [
    "login_data=pd.read_csv(\"login_logs.csv\")\n",
    "login_data.head()"
   ]
  },
  {
   "cell_type": "code",
   "execution_count": 3,
   "id": "23e3c167",
   "metadata": {},
   "outputs": [
    {
     "name": "stdout",
     "output_type": "stream",
     "text": [
      "<class 'pandas.core.frame.DataFrame'>\n",
      "RangeIndex: 666357 entries, 0 to 666356\n",
      "Data columns (total 3 columns):\n",
      " #   Column        Non-Null Count   Dtype \n",
      "---  ------        --------------   ----- \n",
      " 0   login_log_id  666357 non-null  int64 \n",
      " 1   user_id       666357 non-null  int64 \n",
      " 2   login_time    666357 non-null  object\n",
      "dtypes: int64(2), object(1)\n",
      "memory usage: 15.3+ MB\n"
     ]
    }
   ],
   "source": [
    "login_data.info()"
   ]
  },
  {
   "cell_type": "code",
   "execution_count": 4,
   "id": "b62f0848",
   "metadata": {},
   "outputs": [
    {
     "data": {
      "text/html": [
       "<div>\n",
       "<style scoped>\n",
       "    .dataframe tbody tr th:only-of-type {\n",
       "        vertical-align: middle;\n",
       "    }\n",
       "\n",
       "    .dataframe tbody tr th {\n",
       "        vertical-align: top;\n",
       "    }\n",
       "\n",
       "    .dataframe thead th {\n",
       "        text-align: right;\n",
       "    }\n",
       "</style>\n",
       "<table border=\"1\" class=\"dataframe\">\n",
       "  <thead>\n",
       "    <tr style=\"text-align: right;\">\n",
       "      <th></th>\n",
       "      <th>order_id</th>\n",
       "      <th>fk_buyer_id</th>\n",
       "      <th>fk_depot_id</th>\n",
       "      <th>sales_order_status</th>\n",
       "      <th>creation_time</th>\n",
       "    </tr>\n",
       "  </thead>\n",
       "  <tbody>\n",
       "    <tr>\n",
       "      <th>0</th>\n",
       "      <td>119874</td>\n",
       "      <td>82228</td>\n",
       "      <td>5</td>\n",
       "      <td>Rejected</td>\n",
       "      <td>2021-07-01 00:35:28.0</td>\n",
       "    </tr>\n",
       "    <tr>\n",
       "      <th>1</th>\n",
       "      <td>119877</td>\n",
       "      <td>40476</td>\n",
       "      <td>1</td>\n",
       "      <td>Rejected</td>\n",
       "      <td>2021-07-01 02:02:43.0</td>\n",
       "    </tr>\n",
       "    <tr>\n",
       "      <th>2</th>\n",
       "      <td>119880</td>\n",
       "      <td>41728</td>\n",
       "      <td>8</td>\n",
       "      <td>Shipped</td>\n",
       "      <td>2021-07-01 02:42:12.0</td>\n",
       "    </tr>\n",
       "    <tr>\n",
       "      <th>3</th>\n",
       "      <td>119883</td>\n",
       "      <td>97616</td>\n",
       "      <td>4</td>\n",
       "      <td>Rejected</td>\n",
       "      <td>2021-07-01 02:56:00.0</td>\n",
       "    </tr>\n",
       "    <tr>\n",
       "      <th>4</th>\n",
       "      <td>119886</td>\n",
       "      <td>12440</td>\n",
       "      <td>1</td>\n",
       "      <td>Rejected</td>\n",
       "      <td>2021-07-01 03:11:31.0</td>\n",
       "    </tr>\n",
       "  </tbody>\n",
       "</table>\n",
       "</div>"
      ],
      "text/plain": [
       "   order_id  fk_buyer_id  fk_depot_id sales_order_status  \\\n",
       "0    119874        82228            5           Rejected   \n",
       "1    119877        40476            1           Rejected   \n",
       "2    119880        41728            8            Shipped   \n",
       "3    119883        97616            4           Rejected   \n",
       "4    119886        12440            1           Rejected   \n",
       "\n",
       "           creation_time  \n",
       "0  2021-07-01 00:35:28.0  \n",
       "1  2021-07-01 02:02:43.0  \n",
       "2  2021-07-01 02:42:12.0  \n",
       "3  2021-07-01 02:56:00.0  \n",
       "4  2021-07-01 03:11:31.0  "
      ]
     },
     "execution_count": 4,
     "metadata": {},
     "output_type": "execute_result"
    }
   ],
   "source": [
    "sales=pd.read_csv(\"sales_orders.csv\")\n",
    "sales.head()"
   ]
  },
  {
   "cell_type": "code",
   "execution_count": 5,
   "id": "2722f35b",
   "metadata": {},
   "outputs": [
    {
     "name": "stdout",
     "output_type": "stream",
     "text": [
      "<class 'pandas.core.frame.DataFrame'>\n",
      "RangeIndex: 13630 entries, 0 to 13629\n",
      "Data columns (total 5 columns):\n",
      " #   Column              Non-Null Count  Dtype \n",
      "---  ------              --------------  ----- \n",
      " 0   order_id            13630 non-null  int64 \n",
      " 1   fk_buyer_id         13630 non-null  int64 \n",
      " 2   fk_depot_id         13630 non-null  int64 \n",
      " 3   sales_order_status  13630 non-null  object\n",
      " 4   creation_time       13630 non-null  object\n",
      "dtypes: int64(3), object(2)\n",
      "memory usage: 532.5+ KB\n"
     ]
    }
   ],
   "source": [
    "sales.info()"
   ]
  },
  {
   "cell_type": "code",
   "execution_count": 6,
   "id": "4f586360",
   "metadata": {},
   "outputs": [
    {
     "data": {
      "text/html": [
       "<div>\n",
       "<style scoped>\n",
       "    .dataframe tbody tr th:only-of-type {\n",
       "        vertical-align: middle;\n",
       "    }\n",
       "\n",
       "    .dataframe tbody tr th {\n",
       "        vertical-align: top;\n",
       "    }\n",
       "\n",
       "    .dataframe thead th {\n",
       "        text-align: right;\n",
       "    }\n",
       "</style>\n",
       "<table border=\"1\" class=\"dataframe\">\n",
       "  <thead>\n",
       "    <tr style=\"text-align: right;\">\n",
       "      <th></th>\n",
       "      <th>order_item_id</th>\n",
       "      <th>fk_product_id</th>\n",
       "      <th>fk_order_id</th>\n",
       "      <th>ordered_quantity</th>\n",
       "      <th>order_quantity_accepted</th>\n",
       "      <th>rate</th>\n",
       "    </tr>\n",
       "  </thead>\n",
       "  <tbody>\n",
       "    <tr>\n",
       "      <th>0</th>\n",
       "      <td>62609</td>\n",
       "      <td>7818</td>\n",
       "      <td>119874</td>\n",
       "      <td>1</td>\n",
       "      <td>0</td>\n",
       "      <td>4993.00</td>\n",
       "    </tr>\n",
       "    <tr>\n",
       "      <th>1</th>\n",
       "      <td>62610</td>\n",
       "      <td>7607</td>\n",
       "      <td>119877</td>\n",
       "      <td>1</td>\n",
       "      <td>0</td>\n",
       "      <td>6203.40</td>\n",
       "    </tr>\n",
       "    <tr>\n",
       "      <th>2</th>\n",
       "      <td>62611</td>\n",
       "      <td>9916</td>\n",
       "      <td>119880</td>\n",
       "      <td>2</td>\n",
       "      <td>2</td>\n",
       "      <td>2904.41</td>\n",
       "    </tr>\n",
       "    <tr>\n",
       "      <th>3</th>\n",
       "      <td>62612</td>\n",
       "      <td>11118</td>\n",
       "      <td>119880</td>\n",
       "      <td>2</td>\n",
       "      <td>2</td>\n",
       "      <td>2205.00</td>\n",
       "    </tr>\n",
       "    <tr>\n",
       "      <th>4</th>\n",
       "      <td>62613</td>\n",
       "      <td>12702</td>\n",
       "      <td>119880</td>\n",
       "      <td>2</td>\n",
       "      <td>2</td>\n",
       "      <td>2200.85</td>\n",
       "    </tr>\n",
       "  </tbody>\n",
       "</table>\n",
       "</div>"
      ],
      "text/plain": [
       "   order_item_id  fk_product_id  fk_order_id  ordered_quantity  \\\n",
       "0          62609           7818       119874                 1   \n",
       "1          62610           7607       119877                 1   \n",
       "2          62611           9916       119880                 2   \n",
       "3          62612          11118       119880                 2   \n",
       "4          62613          12702       119880                 2   \n",
       "\n",
       "   order_quantity_accepted     rate  \n",
       "0                        0  4993.00  \n",
       "1                        0  6203.40  \n",
       "2                        2  2904.41  \n",
       "3                        2  2205.00  \n",
       "4                        2  2200.85  "
      ]
     },
     "execution_count": 6,
     "metadata": {},
     "output_type": "execute_result"
    }
   ],
   "source": [
    "items_data=pd.read_csv(\"sales_orders_items.csv\")\n",
    "items_data.head()\n"
   ]
  },
  {
   "cell_type": "code",
   "execution_count": 7,
   "id": "2fa9f462",
   "metadata": {},
   "outputs": [
    {
     "name": "stdout",
     "output_type": "stream",
     "text": [
      "<class 'pandas.core.frame.DataFrame'>\n",
      "RangeIndex: 20488 entries, 0 to 20487\n",
      "Data columns (total 6 columns):\n",
      " #   Column                   Non-Null Count  Dtype  \n",
      "---  ------                   --------------  -----  \n",
      " 0   order_item_id            20488 non-null  int64  \n",
      " 1   fk_product_id            20488 non-null  int64  \n",
      " 2   fk_order_id              20488 non-null  int64  \n",
      " 3   ordered_quantity         20488 non-null  int64  \n",
      " 4   order_quantity_accepted  20488 non-null  int64  \n",
      " 5   rate                     20488 non-null  float64\n",
      "dtypes: float64(1), int64(5)\n",
      "memory usage: 960.5 KB\n"
     ]
    }
   ],
   "source": [
    "items_data.info()"
   ]
  },
  {
   "cell_type": "markdown",
   "id": "5608951f",
   "metadata": {},
   "source": [
    "### Extracting year creation_year"
   ]
  },
  {
   "cell_type": "code",
   "execution_count": 8,
   "id": "8fcb6382",
   "metadata": {},
   "outputs": [],
   "source": [
    "sales['creationyear'] = pd.DatetimeIndex(sales['creation_time']).year\n",
    "sales['creationyear']\n",
    "del sales['creation_time']"
   ]
  },
  {
   "cell_type": "code",
   "execution_count": 9,
   "id": "e55f5184",
   "metadata": {},
   "outputs": [
    {
     "data": {
      "text/html": [
       "<div>\n",
       "<style scoped>\n",
       "    .dataframe tbody tr th:only-of-type {\n",
       "        vertical-align: middle;\n",
       "    }\n",
       "\n",
       "    .dataframe tbody tr th {\n",
       "        vertical-align: top;\n",
       "    }\n",
       "\n",
       "    .dataframe thead th {\n",
       "        text-align: right;\n",
       "    }\n",
       "</style>\n",
       "<table border=\"1\" class=\"dataframe\">\n",
       "  <thead>\n",
       "    <tr style=\"text-align: right;\">\n",
       "      <th></th>\n",
       "      <th>order_id</th>\n",
       "      <th>fk_buyer_id</th>\n",
       "      <th>fk_depot_id</th>\n",
       "      <th>sales_order_status</th>\n",
       "      <th>creationyear</th>\n",
       "    </tr>\n",
       "  </thead>\n",
       "  <tbody>\n",
       "    <tr>\n",
       "      <th>0</th>\n",
       "      <td>119874</td>\n",
       "      <td>82228</td>\n",
       "      <td>5</td>\n",
       "      <td>Rejected</td>\n",
       "      <td>2021</td>\n",
       "    </tr>\n",
       "    <tr>\n",
       "      <th>1</th>\n",
       "      <td>119877</td>\n",
       "      <td>40476</td>\n",
       "      <td>1</td>\n",
       "      <td>Rejected</td>\n",
       "      <td>2021</td>\n",
       "    </tr>\n",
       "    <tr>\n",
       "      <th>2</th>\n",
       "      <td>119880</td>\n",
       "      <td>41728</td>\n",
       "      <td>8</td>\n",
       "      <td>Shipped</td>\n",
       "      <td>2021</td>\n",
       "    </tr>\n",
       "    <tr>\n",
       "      <th>3</th>\n",
       "      <td>119883</td>\n",
       "      <td>97616</td>\n",
       "      <td>4</td>\n",
       "      <td>Rejected</td>\n",
       "      <td>2021</td>\n",
       "    </tr>\n",
       "    <tr>\n",
       "      <th>4</th>\n",
       "      <td>119886</td>\n",
       "      <td>12440</td>\n",
       "      <td>1</td>\n",
       "      <td>Rejected</td>\n",
       "      <td>2021</td>\n",
       "    </tr>\n",
       "  </tbody>\n",
       "</table>\n",
       "</div>"
      ],
      "text/plain": [
       "   order_id  fk_buyer_id  fk_depot_id sales_order_status  creationyear\n",
       "0    119874        82228            5           Rejected          2021\n",
       "1    119877        40476            1           Rejected          2021\n",
       "2    119880        41728            8            Shipped          2021\n",
       "3    119883        97616            4           Rejected          2021\n",
       "4    119886        12440            1           Rejected          2021"
      ]
     },
     "execution_count": 9,
     "metadata": {},
     "output_type": "execute_result"
    }
   ],
   "source": [
    "sales.head()"
   ]
  },
  {
   "cell_type": "markdown",
   "id": "75f60c71",
   "metadata": {},
   "source": [
    "### Finding shipments in year 2021  and year 2022"
   ]
  },
  {
   "cell_type": "code",
   "execution_count": 10,
   "id": "51d4c83a",
   "metadata": {},
   "outputs": [
    {
     "name": "stdout",
     "output_type": "stream",
     "text": [
      "items shipped in 2021 : 2434\n",
      "items shipped in 2022 : 3489\n"
     ]
    }
   ],
   "source": [
    "\n",
    "df2=sales.query(\"sales_order_status == 'Shipped'\")\n",
    "df3=df2.query(\"creationyear == 2021\")\n",
    "ship2021=df3.shape[0]\n",
    "print(f\"items shipped in 2021 :\",ship2021)\n",
    "ship2022=len(df2)-ship2021\n",
    "print(f\"items shipped in 2022 :\",ship2022)\n"
   ]
  },
  {
   "cell_type": "markdown",
   "id": "a9a17334",
   "metadata": {},
   "source": [
    "### answer (2.a) As the products shipped in 2022 has been increased this shows business growth."
   ]
  },
  {
   "cell_type": "markdown",
   "id": "593b9c18",
   "metadata": {},
   "source": [
    "### Extracting year from login_time column"
   ]
  },
  {
   "cell_type": "code",
   "execution_count": 11,
   "id": "65aa4b18",
   "metadata": {},
   "outputs": [],
   "source": [
    "login_data['year'] = pd.DatetimeIndex(login_data['login_time']).year\n",
    "login_data['year']\n",
    "del login_data['login_time']\n"
   ]
  },
  {
   "cell_type": "code",
   "execution_count": 12,
   "id": "62377482",
   "metadata": {},
   "outputs": [
    {
     "data": {
      "text/html": [
       "<div>\n",
       "<style scoped>\n",
       "    .dataframe tbody tr th:only-of-type {\n",
       "        vertical-align: middle;\n",
       "    }\n",
       "\n",
       "    .dataframe tbody tr th {\n",
       "        vertical-align: top;\n",
       "    }\n",
       "\n",
       "    .dataframe thead th {\n",
       "        text-align: right;\n",
       "    }\n",
       "</style>\n",
       "<table border=\"1\" class=\"dataframe\">\n",
       "  <thead>\n",
       "    <tr style=\"text-align: right;\">\n",
       "      <th></th>\n",
       "      <th>login_log_id</th>\n",
       "      <th>user_id</th>\n",
       "      <th>year</th>\n",
       "    </tr>\n",
       "  </thead>\n",
       "  <tbody>\n",
       "    <tr>\n",
       "      <th>666352</th>\n",
       "      <td>4670509</td>\n",
       "      <td>207632</td>\n",
       "      <td>2022</td>\n",
       "    </tr>\n",
       "    <tr>\n",
       "      <th>666353</th>\n",
       "      <td>4670510</td>\n",
       "      <td>207632</td>\n",
       "      <td>2022</td>\n",
       "    </tr>\n",
       "    <tr>\n",
       "      <th>666354</th>\n",
       "      <td>4670511</td>\n",
       "      <td>207632</td>\n",
       "      <td>2022</td>\n",
       "    </tr>\n",
       "    <tr>\n",
       "      <th>666355</th>\n",
       "      <td>4670512</td>\n",
       "      <td>111788</td>\n",
       "      <td>2022</td>\n",
       "    </tr>\n",
       "    <tr>\n",
       "      <th>666356</th>\n",
       "      <td>4670513</td>\n",
       "      <td>111788</td>\n",
       "      <td>2022</td>\n",
       "    </tr>\n",
       "  </tbody>\n",
       "</table>\n",
       "</div>"
      ],
      "text/plain": [
       "        login_log_id  user_id  year\n",
       "666352       4670509   207632  2022\n",
       "666353       4670510   207632  2022\n",
       "666354       4670511   207632  2022\n",
       "666355       4670512   111788  2022\n",
       "666356       4670513   111788  2022"
      ]
     },
     "execution_count": 12,
     "metadata": {},
     "output_type": "execute_result"
    }
   ],
   "source": [
    "login_data.tail()"
   ]
  },
  {
   "cell_type": "markdown",
   "id": "661a086f",
   "metadata": {},
   "source": [
    "### Finding logins in year 2021"
   ]
  },
  {
   "cell_type": "code",
   "execution_count": 13,
   "id": "4042a96f",
   "metadata": {},
   "outputs": [
    {
     "name": "stdout",
     "output_type": "stream",
     "text": [
      "271240\n"
     ]
    }
   ],
   "source": [
    "count=0\n",
    "for i in login_data['year']:\n",
    "    if(i==2021):\n",
    "        count=count+1\n",
    "print(count)"
   ]
  },
  {
   "cell_type": "markdown",
   "id": "d6ddb045",
   "metadata": {},
   "source": [
    "### Finding logins in year 2022"
   ]
  },
  {
   "cell_type": "code",
   "execution_count": 14,
   "id": "ea351de5",
   "metadata": {},
   "outputs": [
    {
     "name": "stdout",
     "output_type": "stream",
     "text": [
      "123877\n"
     ]
    }
   ],
   "source": [
    "login2021=271240\n",
    "login2022=(len(login_data[\"year\"])-login2021)\n",
    "growth_login=login2022-login2021\n",
    "print(growth_login)"
   ]
  },
  {
   "cell_type": "markdown",
   "id": "87ce1bc9",
   "metadata": {},
   "source": [
    "# answer(2.c) As we can clearly see that the logins  has increased by 123877 from year 2021 to 2022 so this shows that our user base grows"
   ]
  },
  {
   "cell_type": "markdown",
   "id": "7ce4e9ec",
   "metadata": {},
   "source": [
    "### Inserting  year column to items data  "
   ]
  },
  {
   "cell_type": "code",
   "execution_count": 15,
   "id": "22e5e694",
   "metadata": {},
   "outputs": [
    {
     "name": "stdout",
     "output_type": "stream",
     "text": [
      "0        2021\n",
      "1        2021\n",
      "2        2021\n",
      "3        2021\n",
      "4        2021\n",
      "         ... \n",
      "13625    2022\n",
      "13626    2022\n",
      "13627    2022\n",
      "13628    2022\n",
      "13629    2022\n",
      "Name: creationyear, Length: 13630, dtype: int64\n"
     ]
    }
   ],
   "source": [
    "extracted_col=sales['creationyear']\n",
    "print(extracted_col)\n",
    "items_data.insert(0,'colnew',extracted_col)\n"
   ]
  },
  {
   "cell_type": "code",
   "execution_count": 16,
   "id": "068c8c52",
   "metadata": {},
   "outputs": [
    {
     "data": {
      "text/html": [
       "<div>\n",
       "<style scoped>\n",
       "    .dataframe tbody tr th:only-of-type {\n",
       "        vertical-align: middle;\n",
       "    }\n",
       "\n",
       "    .dataframe tbody tr th {\n",
       "        vertical-align: top;\n",
       "    }\n",
       "\n",
       "    .dataframe thead th {\n",
       "        text-align: right;\n",
       "    }\n",
       "</style>\n",
       "<table border=\"1\" class=\"dataframe\">\n",
       "  <thead>\n",
       "    <tr style=\"text-align: right;\">\n",
       "      <th></th>\n",
       "      <th>colnew</th>\n",
       "      <th>order_item_id</th>\n",
       "      <th>fk_product_id</th>\n",
       "      <th>fk_order_id</th>\n",
       "      <th>ordered_quantity</th>\n",
       "      <th>order_quantity_accepted</th>\n",
       "      <th>rate</th>\n",
       "    </tr>\n",
       "  </thead>\n",
       "  <tbody>\n",
       "    <tr>\n",
       "      <th>0</th>\n",
       "      <td>2021.0</td>\n",
       "      <td>62609</td>\n",
       "      <td>7818</td>\n",
       "      <td>119874</td>\n",
       "      <td>1</td>\n",
       "      <td>0</td>\n",
       "      <td>4993.00</td>\n",
       "    </tr>\n",
       "    <tr>\n",
       "      <th>1</th>\n",
       "      <td>2021.0</td>\n",
       "      <td>62610</td>\n",
       "      <td>7607</td>\n",
       "      <td>119877</td>\n",
       "      <td>1</td>\n",
       "      <td>0</td>\n",
       "      <td>6203.40</td>\n",
       "    </tr>\n",
       "    <tr>\n",
       "      <th>2</th>\n",
       "      <td>2021.0</td>\n",
       "      <td>62611</td>\n",
       "      <td>9916</td>\n",
       "      <td>119880</td>\n",
       "      <td>2</td>\n",
       "      <td>2</td>\n",
       "      <td>2904.41</td>\n",
       "    </tr>\n",
       "    <tr>\n",
       "      <th>3</th>\n",
       "      <td>2021.0</td>\n",
       "      <td>62612</td>\n",
       "      <td>11118</td>\n",
       "      <td>119880</td>\n",
       "      <td>2</td>\n",
       "      <td>2</td>\n",
       "      <td>2205.00</td>\n",
       "    </tr>\n",
       "    <tr>\n",
       "      <th>4</th>\n",
       "      <td>2021.0</td>\n",
       "      <td>62613</td>\n",
       "      <td>12702</td>\n",
       "      <td>119880</td>\n",
       "      <td>2</td>\n",
       "      <td>2</td>\n",
       "      <td>2200.85</td>\n",
       "    </tr>\n",
       "  </tbody>\n",
       "</table>\n",
       "</div>"
      ],
      "text/plain": [
       "   colnew  order_item_id  fk_product_id  fk_order_id  ordered_quantity  \\\n",
       "0  2021.0          62609           7818       119874                 1   \n",
       "1  2021.0          62610           7607       119877                 1   \n",
       "2  2021.0          62611           9916       119880                 2   \n",
       "3  2021.0          62612          11118       119880                 2   \n",
       "4  2021.0          62613          12702       119880                 2   \n",
       "\n",
       "   order_quantity_accepted     rate  \n",
       "0                        0  4993.00  \n",
       "1                        0  6203.40  \n",
       "2                        2  2904.41  \n",
       "3                        2  2205.00  \n",
       "4                        2  2200.85  "
      ]
     },
     "execution_count": 16,
     "metadata": {},
     "output_type": "execute_result"
    }
   ],
   "source": [
    "items_data.head()"
   ]
  },
  {
   "cell_type": "markdown",
   "id": "255b2eda",
   "metadata": {},
   "source": [
    "## Filling Null Values using mode"
   ]
  },
  {
   "cell_type": "code",
   "execution_count": 26,
   "id": "4ce953e6",
   "metadata": {},
   "outputs": [],
   "source": [
    "items_data['colnew'] = items_data['colnew'].fillna(items_data['colnew'].mode()[0])"
   ]
  },
  {
   "cell_type": "code",
   "execution_count": 27,
   "id": "8b10b402",
   "metadata": {},
   "outputs": [
    {
     "name": "stdout",
     "output_type": "stream",
     "text": [
      "<class 'pandas.core.frame.DataFrame'>\n",
      "RangeIndex: 20488 entries, 0 to 20487\n",
      "Data columns (total 7 columns):\n",
      " #   Column                   Non-Null Count  Dtype  \n",
      "---  ------                   --------------  -----  \n",
      " 0   colnew                   20488 non-null  float64\n",
      " 1   order_item_id            20488 non-null  int64  \n",
      " 2   fk_product_id            20488 non-null  int64  \n",
      " 3   fk_order_id              20488 non-null  int64  \n",
      " 4   ordered_quantity         20488 non-null  int64  \n",
      " 5   order_quantity_accepted  20488 non-null  int64  \n",
      " 6   rate                     20488 non-null  float64\n",
      "dtypes: float64(2), int64(5)\n",
      "memory usage: 1.1 MB\n"
     ]
    }
   ],
   "source": [
    "items_data.info()"
   ]
  },
  {
   "cell_type": "markdown",
   "id": "4ccd3a15",
   "metadata": {},
   "source": [
    "### Finding top products details of Year 2021 and Year 2022"
   ]
  },
  {
   "cell_type": "code",
   "execution_count": 28,
   "id": "15bb63df",
   "metadata": {},
   "outputs": [
    {
     "name": "stdout",
     "output_type": "stream",
     "text": [
      "TOP 5 products details of 2021\n"
     ]
    },
    {
     "data": {
      "text/html": [
       "<div>\n",
       "<style scoped>\n",
       "    .dataframe tbody tr th:only-of-type {\n",
       "        vertical-align: middle;\n",
       "    }\n",
       "\n",
       "    .dataframe tbody tr th {\n",
       "        vertical-align: top;\n",
       "    }\n",
       "\n",
       "    .dataframe thead th {\n",
       "        text-align: right;\n",
       "    }\n",
       "</style>\n",
       "<table border=\"1\" class=\"dataframe\">\n",
       "  <thead>\n",
       "    <tr style=\"text-align: right;\">\n",
       "      <th></th>\n",
       "      <th>colnew</th>\n",
       "      <th>order_item_id</th>\n",
       "      <th>fk_product_id</th>\n",
       "      <th>fk_order_id</th>\n",
       "      <th>ordered_quantity</th>\n",
       "      <th>order_quantity_accepted</th>\n",
       "      <th>rate</th>\n",
       "    </tr>\n",
       "  </thead>\n",
       "  <tbody>\n",
       "    <tr>\n",
       "      <th>2842</th>\n",
       "      <td>2021.0</td>\n",
       "      <td>65451</td>\n",
       "      <td>7666</td>\n",
       "      <td>125169</td>\n",
       "      <td>999</td>\n",
       "      <td>0</td>\n",
       "      <td>10182.00</td>\n",
       "    </tr>\n",
       "    <tr>\n",
       "      <th>5017</th>\n",
       "      <td>2021.0</td>\n",
       "      <td>67626</td>\n",
       "      <td>7533</td>\n",
       "      <td>129360</td>\n",
       "      <td>481</td>\n",
       "      <td>0</td>\n",
       "      <td>4882.00</td>\n",
       "    </tr>\n",
       "    <tr>\n",
       "      <th>1237</th>\n",
       "      <td>2021.0</td>\n",
       "      <td>63846</td>\n",
       "      <td>1040</td>\n",
       "      <td>122208</td>\n",
       "      <td>360</td>\n",
       "      <td>0</td>\n",
       "      <td>3570.85</td>\n",
       "    </tr>\n",
       "    <tr>\n",
       "      <th>5176</th>\n",
       "      <td>2021.0</td>\n",
       "      <td>67785</td>\n",
       "      <td>12800</td>\n",
       "      <td>129666</td>\n",
       "      <td>300</td>\n",
       "      <td>0</td>\n",
       "      <td>4.00</td>\n",
       "    </tr>\n",
       "    <tr>\n",
       "      <th>5886</th>\n",
       "      <td>2021.0</td>\n",
       "      <td>68495</td>\n",
       "      <td>2862</td>\n",
       "      <td>131055</td>\n",
       "      <td>200</td>\n",
       "      <td>0</td>\n",
       "      <td>4200.00</td>\n",
       "    </tr>\n",
       "  </tbody>\n",
       "</table>\n",
       "</div>"
      ],
      "text/plain": [
       "      colnew  order_item_id  fk_product_id  fk_order_id  ordered_quantity  \\\n",
       "2842  2021.0          65451           7666       125169               999   \n",
       "5017  2021.0          67626           7533       129360               481   \n",
       "1237  2021.0          63846           1040       122208               360   \n",
       "5176  2021.0          67785          12800       129666               300   \n",
       "5886  2021.0          68495           2862       131055               200   \n",
       "\n",
       "      order_quantity_accepted      rate  \n",
       "2842                        0  10182.00  \n",
       "5017                        0   4882.00  \n",
       "1237                        0   3570.85  \n",
       "5176                        0      4.00  \n",
       "5886                        0   4200.00  "
      ]
     },
     "execution_count": 28,
     "metadata": {},
     "output_type": "execute_result"
    }
   ],
   "source": [
    "topsales1=items_data.query(\"colnew == 2021\")\n",
    "topsales1.shape\n",
    "top5=topsales1.sort_values(by=['ordered_quantity'], ascending=False)\n",
    "print(\"TOP 5 products details of 2021\")\n",
    "top5.head()\n"
   ]
  },
  {
   "cell_type": "code",
   "execution_count": 29,
   "id": "187d13b5",
   "metadata": {},
   "outputs": [
    {
     "name": "stdout",
     "output_type": "stream",
     "text": [
      "TOP 5 products details of 2022\n"
     ]
    },
    {
     "data": {
      "text/html": [
       "<div>\n",
       "<style scoped>\n",
       "    .dataframe tbody tr th:only-of-type {\n",
       "        vertical-align: middle;\n",
       "    }\n",
       "\n",
       "    .dataframe tbody tr th {\n",
       "        vertical-align: top;\n",
       "    }\n",
       "\n",
       "    .dataframe thead th {\n",
       "        text-align: right;\n",
       "    }\n",
       "</style>\n",
       "<table border=\"1\" class=\"dataframe\">\n",
       "  <thead>\n",
       "    <tr style=\"text-align: right;\">\n",
       "      <th></th>\n",
       "      <th>colnew</th>\n",
       "      <th>order_item_id</th>\n",
       "      <th>fk_product_id</th>\n",
       "      <th>fk_order_id</th>\n",
       "      <th>ordered_quantity</th>\n",
       "      <th>order_quantity_accepted</th>\n",
       "      <th>rate</th>\n",
       "    </tr>\n",
       "  </thead>\n",
       "  <tbody>\n",
       "    <tr>\n",
       "      <th>11624</th>\n",
       "      <td>2022.0</td>\n",
       "      <td>148725</td>\n",
       "      <td>1043</td>\n",
       "      <td>300192</td>\n",
       "      <td>835</td>\n",
       "      <td>0</td>\n",
       "      <td>22849.0</td>\n",
       "    </tr>\n",
       "    <tr>\n",
       "      <th>19792</th>\n",
       "      <td>2022.0</td>\n",
       "      <td>156893</td>\n",
       "      <td>12547</td>\n",
       "      <td>317475</td>\n",
       "      <td>500</td>\n",
       "      <td>500</td>\n",
       "      <td>5730.0</td>\n",
       "    </tr>\n",
       "    <tr>\n",
       "      <th>9191</th>\n",
       "      <td>2022.0</td>\n",
       "      <td>71800</td>\n",
       "      <td>8210</td>\n",
       "      <td>137280</td>\n",
       "      <td>450</td>\n",
       "      <td>0</td>\n",
       "      <td>12674.0</td>\n",
       "    </tr>\n",
       "    <tr>\n",
       "      <th>6732</th>\n",
       "      <td>2022.0</td>\n",
       "      <td>69341</td>\n",
       "      <td>8219</td>\n",
       "      <td>132573</td>\n",
       "      <td>400</td>\n",
       "      <td>0</td>\n",
       "      <td>13288.2</td>\n",
       "    </tr>\n",
       "    <tr>\n",
       "      <th>10197</th>\n",
       "      <td>2022.0</td>\n",
       "      <td>147298</td>\n",
       "      <td>1041</td>\n",
       "      <td>297468</td>\n",
       "      <td>366</td>\n",
       "      <td>0</td>\n",
       "      <td>4954.0</td>\n",
       "    </tr>\n",
       "  </tbody>\n",
       "</table>\n",
       "</div>"
      ],
      "text/plain": [
       "       colnew  order_item_id  fk_product_id  fk_order_id  ordered_quantity  \\\n",
       "11624  2022.0         148725           1043       300192               835   \n",
       "19792  2022.0         156893          12547       317475               500   \n",
       "9191   2022.0          71800           8210       137280               450   \n",
       "6732   2022.0          69341           8219       132573               400   \n",
       "10197  2022.0         147298           1041       297468               366   \n",
       "\n",
       "       order_quantity_accepted     rate  \n",
       "11624                        0  22849.0  \n",
       "19792                      500   5730.0  \n",
       "9191                         0  12674.0  \n",
       "6732                         0  13288.2  \n",
       "10197                        0   4954.0  "
      ]
     },
     "execution_count": 29,
     "metadata": {},
     "output_type": "execute_result"
    }
   ],
   "source": [
    "topsales2=items_data.query(\"colnew == 2022\")\n",
    "topsales2.shape\n",
    "top=topsales2.sort_values(by=['ordered_quantity'], ascending=False)\n",
    "print(\"TOP 5 products details of 2022\")\n",
    "top.head()"
   ]
  },
  {
   "cell_type": "markdown",
   "id": "6c23a6aa",
   "metadata": {},
   "source": [
    "### answer(4)  The first Problem in july 2021 data is the orders have been rejected more than the orders that are shipped.\n",
    "#### To conquer this problem we need to first understand the behaviour     of the rejected orders and reasons for rejections.\n",
    "#### 1. To add reasons column when someone is trying to cancel order.\n",
    "#### 2. To add expectation column to get what customer actually wants.\n",
    "#### 3. A good recommendation system to recommend similar and options that satisfies customer needs.\n",
    "#### 4. To maintain data for customers who are canceling order to understand that the customer is genuine or not.\n",
    "\n",
    "### The second problem is inability to meet customer demands in terms of quantity.\n",
    "#### 1.Inventory is an essential aspect whether we are manufacturing units or suppliers.\n",
    "#### 2.The suggestion is to build multi layer monitoring over the inventories so that in case of mistake or failure from one layer there is still acurate result about quantity available.\n",
    "#### 3.The multil  layer monitoring system should be less manual and includes the advancement of technology like automatic updates in data whenever there are changes.\n",
    "#### 4.An appropiate dashboard should be prepared which focus on the products which are highly popular among customers. We should never lack in that. Visualisation tools such as Power Bi or excel dashboards can be one of the approach.\n",
    "#### 5. Information regarding quantity available of the product he/she viewing at  should be visible so that the customer knows before hand. This can save us from the negative image customer built in their mind.\n",
    "\n"
   ]
  },
  {
   "cell_type": "markdown",
   "id": "9faecaae",
   "metadata": {},
   "source": [
    "### Finding correlation between login frequency and order quantity"
   ]
  },
  {
   "cell_type": "code",
   "execution_count": 19,
   "id": "c1909f70",
   "metadata": {},
   "outputs": [
    {
     "data": {
      "text/plain": [
       "-0.009222960583501532"
      ]
     },
     "execution_count": 19,
     "metadata": {},
     "output_type": "execute_result"
    }
   ],
   "source": [
    "login_data['login_log_id'].corr(items_data['ordered_quantity'])"
   ]
  },
  {
   "cell_type": "markdown",
   "id": "870049c5",
   "metadata": {},
   "source": [
    "### answer(5) No the login frequencies doesn't really affect the order quantity"
   ]
  }
 ],
 "metadata": {
  "kernelspec": {
   "display_name": "Python 3 (ipykernel)",
   "language": "python",
   "name": "python3"
  },
  "language_info": {
   "codemirror_mode": {
    "name": "ipython",
    "version": 3
   },
   "file_extension": ".py",
   "mimetype": "text/x-python",
   "name": "python",
   "nbconvert_exporter": "python",
   "pygments_lexer": "ipython3",
   "version": "3.10.1"
  }
 },
 "nbformat": 4,
 "nbformat_minor": 5
}

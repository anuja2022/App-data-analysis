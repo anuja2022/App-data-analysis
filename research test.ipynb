{
 "cells": [
  {
   "cell_type": "markdown",
   "id": "941bc4d8",
   "metadata": {},
   "source": [
    "### RESEARCH TEST\n"
   ]
  },
  {
   "cell_type": "markdown",
   "id": "169ffa44",
   "metadata": {},
   "source": [
    "#### QUEST 1. What is pep8?"
   ]
  },
  {
   "cell_type": "markdown",
   "id": "6ce4df6b",
   "metadata": {},
   "source": [
    "* PEP 8, sometimes spelled PEP8 or PEP-8, is a document that provides guidelines and best practices on how to write Python code. The primary focus of PEP 8 is to improve the readability and consistency of Python code.\n",
    "\n",
    "* PEP stands for Python Enhancement Proposal, and there are several of them. A PEP is a document that describes new features proposed for Python and documents aspects of Python, like design and style, for the community.\n",
    "\n",
    "* PEP 8 exists to improve the readability of Python code. \n",
    "* PEP follows : \n",
    "  Naming Conventions\n",
    "  Code Layout\n",
    "  Indentation\n",
    "  Comments\n",
    "  Documentation Strings\n"
   ]
  },
  {
   "cell_type": "markdown",
   "id": "73ada432",
   "metadata": {},
   "source": [
    "#### QUEST 2.Difference between range and xrange?"
   ]
  },
  {
   "cell_type": "markdown",
   "id": "9e766675",
   "metadata": {},
   "source": [
    "* The range() and xrange() are two functions that could be used to iterate a certain number of times in for loops in Python.\n",
    "* Both are implemented in different ways and have different characteristics associated with them. The points of comparison are: \n",
    "\n",
    "1.Return Type : range() returns – range object. \n",
    "                xrange() returns – xrange() object. \n",
    "                \n",
    "2.Memory : The variable storing the range created by range() takes more memory as compared to the variable storing the                range using xrange(). The basic reason for this is the return type of range() is list and xrange() is xrange()              object.\n",
    "\n",
    "3.Operation Usage : As range() returns the list, all the operations that can be applied on the list can be used on it. On                       the other hand, as xrange() returns the xrange object, operations associated to list cannot be applied                     on them, hence a disadvantage.\n",
    "\n",
    "4.Speed : Because of the fact that xrange() evaluates only the generator object containing only the values that are                   required by lazy evaluation, therefore is faster in implementation than range()."
   ]
  },
  {
   "cell_type": "markdown",
   "id": "63f7bab3",
   "metadata": {},
   "source": [
    "#### QUEST 3. What are global and local variables?"
   ]
  },
  {
   "cell_type": "markdown",
   "id": "80b665b9",
   "metadata": {},
   "source": [
    "* Global Variables: These are the variables that are included in any particular function but can be accessed and used as per the requirement through out the code whereever needed.\n",
    "* Local variables : These are the varibles taht are included ina  specific function and be only used inside that function. If we try to use them out of that function we either need to intiate them again or it will throw an error.\n",
    "\n",
    "* For Example:\n",
    " a=9       \n",
    " b=10\n",
    " ### Here a and b are global variables\n",
    " def summation():\n",
    " ### sums is a local variable declared inside function summation \n",
    "     sums=a+b\n",
    "     print(sums)\n",
    " def difference():\n",
    " ### diff is also a local variable declared inside functio difference\n",
    "     diff=a-b\n",
    "     print(diff)\n",
    "     \n",
    "summation()\n",
    "diff()\n",
    "### we can use a and b in both fuctions but we cannot use sums in difference function and we cannot use diff in summation function\n",
    "\n",
    " "
   ]
  },
  {
   "cell_type": "markdown",
   "id": "de40498f",
   "metadata": {},
   "source": [
    "#### QUEST 4. Difference between python 2 and python 3?\n"
   ]
  },
  {
   "cell_type": "markdown",
   "id": "cb369b9e",
   "metadata": {},
   "source": [
    "* Important differences between python 2 and python 3\n",
    "  Division operator\n",
    "  print function\n",
    "  Unicode\n",
    "  xrange\n",
    "  Error Handling\n",
    "  _future_ module\n",
    "   \n",
    "   Python 2 syntax are lot more difficult than python 3 syntax."
   ]
  },
  {
   "cell_type": "markdown",
   "id": "39f9cf66",
   "metadata": {},
   "source": [
    "#### QUEST 5. MIRRORED PALINDROME"
   ]
  },
  {
   "cell_type": "markdown",
   "id": "d37a29e5",
   "metadata": {},
   "source": [
    "*Mirrored Palindromes and Word Unit Palindromes are two types of Palindromes which are words or phrases that read the same in both directions, e.g. EYE, or RACECAR, or MADAM I'M ADAM.\n",
    "\n",
    "Here are a few good ones:\n",
    "\n",
    "• Do geese see God?\n",
    "\n",
    "• Was it Eliot's toilet I saw?\n",
    "\n",
    "• Murder for a jar of red rum.\n",
    "\n",
    "• Some men interpret nine memos.\n",
    "\n",
    "• Never odd or even.\n",
    "\n",
    "The Palindromes form an integral part of the English Language. Acquaintance with the vocabulary of the English language is a necessity for effective expression either in written or in an oral from."
   ]
  },
  {
   "cell_type": "code",
   "execution_count": 3,
   "id": "e027d5f9",
   "metadata": {},
   "outputs": [
    {
     "name": "stdout",
     "output_type": "stream",
     "text": [
      "Enter you string:\n",
      "'level'\n",
      "Given String is palindrome\n"
     ]
    }
   ],
   "source": [
    "a=eval(input(\"Enter you string:\\n\"))\n",
    "if a==a[::-1]: # w[::-1] it will reverse the given string value.\n",
    "    print(\"Given String is palindrome\")\n",
    "else:\n",
    "    print(\"Given String is not palindrome\")\n",
    "\n"
   ]
  },
  {
   "cell_type": "code",
   "execution_count": null,
   "id": "83d5ff9e",
   "metadata": {},
   "outputs": [],
   "source": []
  }
 ],
 "metadata": {
  "kernelspec": {
   "display_name": "Python 3 (ipykernel)",
   "language": "python",
   "name": "python3"
  },
  "language_info": {
   "codemirror_mode": {
    "name": "ipython",
    "version": 3
   },
   "file_extension": ".py",
   "mimetype": "text/x-python",
   "name": "python",
   "nbconvert_exporter": "python",
   "pygments_lexer": "ipython3",
   "version": "3.9.7"
  }
 },
 "nbformat": 4,
 "nbformat_minor": 5
}
